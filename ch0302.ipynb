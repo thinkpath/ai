{
 "cells": [
  {
   "cell_type": "code",
   "execution_count": 1,
   "metadata": {
    "scrolled": false
   },
   "outputs": [
    {
     "name": "stdout",
     "output_type": "stream",
     "text": [
      "['1234567', '110', '120']\n",
      "1234567\n",
      "110\n",
      "120\n"
     ]
    }
   ],
   "source": [
    "七舅老爷 = '1234567'\n",
    "小明 = '110'\n",
    "救护车 = '120'\n",
    "通讯录 = [七舅老爷,小明,救护车]\n",
    "print(通讯录)\n",
    "for 手机号 in 通讯录 :\n",
    "    print(手机号)"
   ]
  },
  {
   "cell_type": "code",
   "execution_count": 8,
   "metadata": {
    "scrolled": true
   },
   "outputs": [
    {
     "name": "stdout",
     "output_type": "stream",
     "text": [
      "['1860000000', '1630000000', '1300000000']\n",
      "1860000000\n",
      "1630000000\n",
      "1300000000\n"
     ]
    }
   ],
   "source": [
    "我 = '1860000000'\n",
    "你 = '1630000000'\n",
    "他 = '1300000000'\n",
    "通讯录 = [我,你,他]\n",
    "print(通讯录)\n",
    "for 手机号 in 通讯录 :\n",
    "    print(手机号)"
   ]
  },
  {
   "cell_type": "code",
   "execution_count": 9,
   "metadata": {},
   "outputs": [
    {
     "name": "stdout",
     "output_type": "stream",
     "text": [
      "{'称呼': '李老师', '手机号': '186000000'}\n"
     ]
    }
   ],
   "source": [
    "李老师 = {'称呼':'李老师','手机号':'186000000'}\n",
    "print(李老师)"
   ]
  },
  {
   "cell_type": "code",
   "execution_count": 11,
   "metadata": {},
   "outputs": [
    {
     "name": "stdout",
     "output_type": "stream",
     "text": [
      "{'称呼': '张老师', '手机号': '110110110'}\n"
     ]
    }
   ],
   "source": [
    "张老师 = {'称呼':'张老师','手机号':'110110110'}\n",
    "print(张老师)"
   ]
  },
  {
   "cell_type": "code",
   "execution_count": 13,
   "metadata": {},
   "outputs": [
    {
     "name": "stdout",
     "output_type": "stream",
     "text": [
      "尊敬的张老师\n"
     ]
    }
   ],
   "source": [
    "print('尊敬的' + 张老师['称呼'])"
   ]
  },
  {
   "cell_type": "code",
   "execution_count": 14,
   "metadata": {},
   "outputs": [
    {
     "name": "stdout",
     "output_type": "stream",
     "text": [
      "{'称呼': '李老师', '手机号': '186000000'}\n"
     ]
    }
   ],
   "source": [
    "print(李老师)"
   ]
  },
  {
   "cell_type": "code",
   "execution_count": 15,
   "metadata": {},
   "outputs": [
    {
     "name": "stdout",
     "output_type": "stream",
     "text": [
      "尊敬的李老师祝您身体健康，工作顺利！\n"
     ]
    }
   ],
   "source": [
    "print('尊敬的' + 李老师['称呼'] + '祝您身体健康，工作顺利！')"
   ]
  },
  {
   "cell_type": "code",
   "execution_count": 18,
   "metadata": {},
   "outputs": [
    {
     "data": {
      "text/plain": [
       "'尊敬的李老师,学生xx祝您身体健康，工作顺利！'"
      ]
     },
     "execution_count": 18,
     "metadata": {},
     "output_type": "execute_result"
    }
   ],
   "source": [
    "'尊敬的' + 李老师['称呼'] + ',学生xx祝您身体健康，工作顺利！'"
   ]
  },
  {
   "cell_type": "code",
   "execution_count": 27,
   "metadata": {},
   "outputs": [
    {
     "name": "stdout",
     "output_type": "stream",
     "text": [
      "[{'称呼': '李老师', '手机号': '186000000'}, {'称呼': '张老师', '手机号': '110110110'}, {'称呼': '张老师', '手机号': '110110110'}]\n",
      "张老师\n"
     ]
    }
   ],
   "source": [
    "t_li = {'称呼':'李老师','手机号':'186000000'} #字典 dictionary\n",
    "t_zhang = {'称呼':'张老师','手机号':'110110110'}\n",
    "t_wang = {'称呼':'张老师','手机号':'110110110'}\n",
    "teachers = [t_li,t_zhang,t_wang]  #列表 list\n",
    "print(teachers)\n",
    "print(teachers[1]['称呼'])"
   ]
  },
  {
   "cell_type": "code",
   "execution_count": 29,
   "metadata": {
    "scrolled": true
   },
   "outputs": [
    {
     "name": "stdout",
     "output_type": "stream",
     "text": [
      "亲爱的李老师,学生小明祝您新年快乐！\n",
      "亲爱的张老师,学生小明祝您新年快乐！\n",
      "亲爱的张老师,学生小明祝您新年快乐！\n"
     ]
    }
   ],
   "source": [
    "for t in teachers:\n",
    "    print('亲爱的' + t['称呼'] + ',学生小明祝您新年快乐！')"
   ]
  },
  {
   "cell_type": "code",
   "execution_count": 30,
   "metadata": {},
   "outputs": [
    {
     "data": {
      "text/plain": [
       "'老师'"
      ]
     },
     "execution_count": 30,
     "metadata": {},
     "output_type": "execute_result"
    }
   ],
   "source": [
    "关系 = '老师'\n",
    "关系"
   ]
  },
  {
   "cell_type": "code",
   "execution_count": 31,
   "metadata": {
    "scrolled": true
   },
   "outputs": [
    {
     "name": "stdout",
     "output_type": "stream",
     "text": [
      "这不是老师的手机号\n"
     ]
    }
   ],
   "source": [
    "if 关系 == '长辈':\n",
    "    print('这是老师的手机号')\n",
    "else:\n",
    "    print('这不是老师的手机号')"
   ]
  },
  {
   "cell_type": "code",
   "execution_count": 36,
   "metadata": {},
   "outputs": [],
   "source": [
    "c_li = {'称呼':'李老师','手机号':'186000000','关系':'老师'} #字典 dictionary\n",
    "c_qi = {'称呼':'七舅老爷','手机号':'110110110','关系':'长辈'}\n",
    "c_wang = {'称呼':'王同学','手机号':'110110110','关系':'同学'}\n",
    "\n",
    "\n",
    "contact = [c_li,c_qi,c_wang]  #列表 list"
   ]
  },
  {
   "cell_type": "code",
   "execution_count": 39,
   "metadata": {},
   "outputs": [
    {
     "name": "stdout",
     "output_type": "stream",
     "text": [
      "尊敬的李老师,学生小明祝您新年快乐！\n",
      "年轻帅气的七舅老爷,小明祝您信念快乐，压岁钱直接打到微信就可以了！\n",
      "王同学,新年快乐！\n"
     ]
    }
   ],
   "source": [
    "for c in contact:\n",
    "    if c['关系']=='老师':\n",
    "        print('尊敬的'+c['称呼']+',学生小明祝您新年快乐！')\n",
    "    else:\n",
    "        if c['关系']=='长辈':\n",
    "            print('年轻帅气的'+c['称呼']+',小明祝您信念快乐，压岁钱直接打到微信就可以了！')\n",
    "        else:\n",
    "            print(c['称呼']+',新年快乐！')\n",
    "        "
   ]
  },
  {
   "cell_type": "code",
   "execution_count": null,
   "metadata": {},
   "outputs": [],
   "source": []
  }
 ],
 "metadata": {
  "kernelspec": {
   "display_name": "Python 3",
   "language": "python",
   "name": "python3"
  },
  "language_info": {
   "codemirror_mode": {
    "name": "ipython",
    "version": 3
   },
   "file_extension": ".py",
   "mimetype": "text/x-python",
   "name": "python",
   "nbconvert_exporter": "python",
   "pygments_lexer": "ipython3",
   "version": "3.8.3"
  }
 },
 "nbformat": 4,
 "nbformat_minor": 4
}
